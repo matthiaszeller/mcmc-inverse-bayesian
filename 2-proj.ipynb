{
 "cells": [
  {
   "cell_type": "markdown",
   "source": [
    "# Introduction"
   ],
   "metadata": {
    "collapsed": false,
    "pycharm": {
     "name": "#%% md\n"
    }
   }
  },
  {
   "cell_type": "markdown",
   "source": [
    "## About\n",
    "\n",
    "This notebook gathers the code used for the miniproject \"Bayesian Inverse Problems in Large Dimensions\" of the Stochastic Simulation course. See the report for theoretical details."
   ],
   "metadata": {
    "collapsed": false,
    "pycharm": {
     "name": "#%% md\n"
    }
   }
  },
  {
   "cell_type": "markdown",
   "source": [
    "## Setup"
   ],
   "metadata": {
    "collapsed": false,
    "pycharm": {
     "name": "#%% md\n"
    }
   }
  },
  {
   "cell_type": "code",
   "execution_count": null,
   "outputs": [],
   "source": [
    "# Google Colab compatibility\n",
    "try:\n",
    "    from google.colab import drive\n",
    "    drive.mount('/content/gdrive')\n",
    "    %cd gdrive/MyDrive/mcmc-inverse-bayesian\n",
    "except ModuleNotFoundError:\n",
    "    pass"
   ],
   "metadata": {
    "collapsed": false,
    "pycharm": {
     "name": "#%%\n"
    }
   }
  },
  {
   "cell_type": "code",
   "execution_count": null,
   "outputs": [],
   "source": [
    "%load_ext autoreload\n",
    "%autoreload 2"
   ],
   "metadata": {
    "collapsed": false,
    "pycharm": {
     "name": "#%%\n"
    }
   }
  },
  {
   "cell_type": "code",
   "execution_count": null,
   "outputs": [],
   "source": [
    "# Standard libraries\n",
    "import matplotlib.pyplot as plt\n",
    "import numpy as np\n",
    "import seaborn as sns\n",
    "import pandas as pd\n",
    "from glob import glob\n",
    "# Override matplotlib defaults for nicer plots\n",
    "sns.set(style='whitegrid')"
   ],
   "metadata": {
    "collapsed": false,
    "pycharm": {
     "name": "#%%\n"
    }
   }
  },
  {
   "cell_type": "code",
   "execution_count": null,
   "outputs": [],
   "source": [
    "# Custom imports\n",
    "from utils import u, G, target_density\n",
    "from mcmc import rwmh, diagnose_plot\n",
    "from utils import dump_simulation_results, load_simulation_results"
   ],
   "metadata": {
    "collapsed": false,
    "pycharm": {
     "name": "#%%\n"
    }
   }
  },
  {
   "cell_type": "code",
   "execution_count": null,
   "outputs": [],
   "source": [
    "# Given data\n",
    "y = np.array([0.5041, 0.8505, 1.2257, 1.4113])"
   ],
   "metadata": {
    "collapsed": false,
    "pycharm": {
     "name": "#%%\n"
    }
   }
  },
  {
   "cell_type": "code",
   "execution_count": null,
   "outputs": [],
   "source": [
    "# Noise standard deviation\n",
    "sigma_noise = 0.04\n",
    "# Chain length\n",
    "N = int(1e4)"
   ],
   "metadata": {
    "collapsed": false,
    "pycharm": {
     "name": "#%%\n"
    }
   }
  },
  {
   "cell_type": "markdown",
   "source": [
    "# Random Walk Metropolis\n",
    "\n",
    "In this first approach, we use the proposal distribution\n",
    "\n",
    "$$Q(\\mathbf \\theta, \\cdot) = \\mathcal N(\\mathbf \\theta, s^2 C), \\quad C = \\text{diag}(1, 2^{-2}, \\ldots, D^{-2})$$\n",
    "\n",
    "where $D$ is the dimension of the state space, being the number of Fourier coefficients used to approximate the log-permeability."
   ],
   "metadata": {
    "collapsed": false,
    "pycharm": {
     "name": "#%% md\n"
    }
   }
  },
  {
   "cell_type": "markdown",
   "source": [
    "The goal is to generate chains of length $N=10^4$ with different values of $s$ and $D$. Remind that we're trying to probe the efficiency of MCMC for $D \\to\\infty$. We will use the `rwmh` (Random Walk Metropolis Hastings) utility function:"
   ],
   "metadata": {
    "collapsed": false,
    "pycharm": {
     "name": "#%% md\n"
    }
   }
  },
  {
   "cell_type": "code",
   "execution_count": null,
   "outputs": [],
   "source": [
    "help(rwmh)"
   ],
   "metadata": {
    "collapsed": false,
    "pycharm": {
     "name": "#%%\n"
    }
   }
  },
  {
   "cell_type": "markdown",
   "source": [],
   "metadata": {
    "collapsed": false,
    "pycharm": {
     "name": "#%% md\n"
    }
   }
  },
  {
   "cell_type": "code",
   "execution_count": null,
   "outputs": [],
   "source": [
    "def simulate(args):\n",
    "    \"\"\"Perform one simulation, used as map function for multiprocessor pool\"\"\"\n",
    "    D, s = args\n",
    "    print(f'D = {D}, s = {s}\\t', end='')\n",
    "    X, p_accept = rwmh(\n",
    "        ftilde=lambda theta: target_density(theta, sigma_noise, y),\n",
    "        variances=s**2 / np.arange(1, D+1)**2,\n",
    "        X0=np.zeros(D),\n",
    "        N=N\n",
    "    )\n",
    "    # Only return the first component of the chain, too much data otherwise\n",
    "    return {\n",
    "        'X': X[:, 0],\n",
    "        'D': D,\n",
    "        's': s,\n",
    "        'p_accept': p_accept\n",
    "    }"
   ],
   "metadata": {
    "collapsed": false,
    "pycharm": {
     "name": "#%%\n"
    }
   }
  },
  {
   "cell_type": "code",
   "execution_count": null,
   "outputs": [],
   "source": [
    "import multiprocessing as mp\n",
    "import itertools"
   ],
   "metadata": {
    "collapsed": false,
    "pycharm": {
     "name": "#%%\n"
    }
   }
  },
  {
   "cell_type": "markdown",
   "source": [
    "One can typically run the cell below in Google Colab with appropriate values for `s` and `D` and then import results with `load_simulation_results`:"
   ],
   "metadata": {
    "collapsed": false,
    "pycharm": {
     "name": "#%% md\n"
    }
   }
  },
  {
   "cell_type": "code",
   "execution_count": null,
   "outputs": [],
   "source": [
    "# D = (10, 100, 1000)\n",
    "# s = (0.05, 0.1, 0.15, 0.2, 0.3, 0.5)\n",
    "# pool = mp.Pool(mp.cpu_count())\n",
    "# data = pool.map(simulate, itertools.product(D, s))\n",
    "# pool.close()\n",
    "# dump_simulation_results(data, 'data/rwmh_1.json.gz')"
   ],
   "metadata": {
    "collapsed": false,
    "pycharm": {
     "name": "#%%\n"
    }
   }
  },
  {
   "cell_type": "code",
   "execution_count": null,
   "outputs": [],
   "source": [
    "df = pd.concat([\n",
    "    pd.DataFrame(load_simulation_results(fpath)) for fpath in glob('data/rwmh_*.json.gz')\n",
    "]).reset_index(drop=True).sort_values(['D', 's'])\n",
    "df"
   ],
   "metadata": {
    "collapsed": false,
    "pycharm": {
     "name": "#%%\n"
    }
   }
  },
  {
   "cell_type": "code",
   "execution_count": null,
   "outputs": [],
   "source": [
    "palette = sns.color_palette(n_colors=df.D.nunique())\n",
    "sns.lineplot(x='s', y='p_accept', hue='D', data=df, marker='o', palette=palette)\n",
    "plt.savefig('figs/1_rwmh_overview.pdf', bbox_inches='tight')"
   ],
   "metadata": {
    "collapsed": false,
    "pycharm": {
     "name": "#%%\n"
    }
   }
  },
  {
   "cell_type": "code",
   "execution_count": null,
   "outputs": [],
   "source": [
    "df_diagnosis = df[(df.p_accept > 0.01)]\n",
    "labels = [\n",
    "    f'$D = {row.D}, s = {row.s}, p_a = {row.p_accept:.3}$' for _, row in df_diagnosis.iterrows()\n",
    "]\n",
    "diagnose_plot(df_diagnosis.X, labels, r'$\\theta_1$')"
   ],
   "metadata": {
    "collapsed": false,
    "pycharm": {
     "name": "#%%\n"
    }
   }
  },
  {
   "cell_type": "code",
   "execution_count": null,
   "outputs": [],
   "source": [
    "# data = []\n",
    "# for D in (100,):\n",
    "#     for s in (0.1, 0.3):\n",
    "#         X, p_accept = rwmh(\n",
    "#             ftilde=lambda theta: target_density(theta, sigma_noise, y),\n",
    "#             variances=s**2 / np.arange(1, D+1)**2,\n",
    "#             X0=np.zeros(D),\n",
    "#             N=N\n",
    "#         )\n",
    "#         data.append({\n",
    "#             'X': X,\n",
    "#             'D': D,\n",
    "#             's': s,\n",
    "#             'p_accept': p_accept\n",
    "#         })\n",
    "#\n",
    "# dump_simulation_results(data, 'data/rwmh_1.json.gz')"
   ],
   "metadata": {
    "collapsed": false,
    "pycharm": {
     "name": "#%%\n"
    }
   }
  },
  {
   "cell_type": "markdown",
   "source": [
    "# Improvement: Preconditionned Crank-Nicholson\n",
    "\n",
    "We modify the proposal distribution: the mean of the Gaussian is now biased toward zero:\n",
    "\n",
    "$$q(\\mathbf \\theta, \\cdot) = \\mathcal N(\\mathbf \\theta \\sqrt{1-s^2}, s^2 C)$$"
   ],
   "metadata": {
    "collapsed": false,
    "pycharm": {
     "name": "#%% md\n"
    }
   }
  },
  {
   "cell_type": "markdown",
   "source": [
    "In terms of the implementation, only a slight modification of `rwmh` is required: we just add a `precond_const` argument with value `1.0` by default (i.e., standard random walk metropolis), and we multiply the current state by this `precond_const` when shifting the pre-computed proposals."
   ],
   "metadata": {
    "collapsed": false,
    "pycharm": {
     "name": "#%% md\n"
    }
   }
  },
  {
   "cell_type": "code",
   "execution_count": null,
   "outputs": [],
   "source": [],
   "metadata": {
    "collapsed": false,
    "pycharm": {
     "name": "#%%\n"
    }
   }
  }
 ],
 "metadata": {
  "kernelspec": {
   "name": "conda-env-ada-py",
   "language": "python",
   "display_name": "Python [conda env:ada]"
  },
  "language_info": {
   "codemirror_mode": {
    "name": "ipython",
    "version": 2
   },
   "file_extension": ".py",
   "mimetype": "text/x-python",
   "name": "python",
   "nbconvert_exporter": "python",
   "pygments_lexer": "ipython2",
   "version": "2.7.6"
  }
 },
 "nbformat": 4,
 "nbformat_minor": 0
}