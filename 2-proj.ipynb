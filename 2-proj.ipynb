{
 "cells": [
  {
   "cell_type": "markdown",
   "source": [
    "# Introduction"
   ],
   "metadata": {
    "collapsed": false,
    "pycharm": {
     "name": "#%% md\n"
    }
   }
  },
  {
   "cell_type": "markdown",
   "source": [
    "## About\n",
    "\n",
    "This notebook gathers the code used for the miniproject \"Bayesian Inverse Problems in Large Dimensions\" of the Stochastic Simulation course. See the report for theoretical details."
   ],
   "metadata": {
    "collapsed": false,
    "pycharm": {
     "name": "#%% md\n"
    }
   }
  },
  {
   "cell_type": "markdown",
   "source": [
    "## Setup"
   ],
   "metadata": {
    "collapsed": false,
    "pycharm": {
     "name": "#%% md\n"
    }
   }
  },
  {
   "cell_type": "code",
   "execution_count": null,
   "outputs": [],
   "source": [
    "# Standard libraries\n",
    "import matplotlib.pyplot as plt\n",
    "import numpy as np"
   ],
   "metadata": {
    "collapsed": false,
    "pycharm": {
     "name": "#%%\n"
    }
   }
  },
  {
   "cell_type": "code",
   "execution_count": 17,
   "outputs": [],
   "source": [
    "# Custom imports\n",
    "from utils import u, G, target_density\n",
    "from mcmc import rwmh"
   ],
   "metadata": {
    "collapsed": false,
    "pycharm": {
     "name": "#%%\n"
    }
   }
  },
  {
   "cell_type": "code",
   "execution_count": 3,
   "outputs": [],
   "source": [
    "# Given data\n",
    "y = np.array([0.5041, 0.8505, 1.2257, 1.4113])"
   ],
   "metadata": {
    "collapsed": false,
    "pycharm": {
     "name": "#%%\n"
    }
   }
  },
  {
   "cell_type": "code",
   "execution_count": 20,
   "outputs": [],
   "source": [
    "# Noise standard deviation\n",
    "sigma_noise = 0.04\n",
    "# Chain length\n",
    "N = int(1e4)"
   ],
   "metadata": {
    "collapsed": false,
    "pycharm": {
     "name": "#%%\n"
    }
   }
  },
  {
   "cell_type": "markdown",
   "source": [
    "# Random Walk Metropolis\n",
    "\n",
    "In this first approach, we use the proposal distribution\n",
    "\n",
    "$$Q(\\mathbf \\theta, \\cdot) = \\mathcal N(\\mathbf \\theta, s^2 C), \\quad C = \\text{diag}(1, 2^{-2}, \\ldots, D^{-2})$$\n",
    "\n",
    "where $D$ is the dimension of the state space, being the number of Fourier coefficients used to approximate the log-permeability."
   ],
   "metadata": {
    "collapsed": false,
    "pycharm": {
     "name": "#%% md\n"
    }
   }
  },
  {
   "cell_type": "markdown",
   "source": [
    "The goal is to generate chains of length $N=10^4$ with different values of $s$ and $D$. Remind that we're trying to probe the efficiency of MCMC for $D \\to\\infty$. We will use the `rwmh` (Random Walk Metropolis Hastings) utility function:"
   ],
   "metadata": {
    "collapsed": false,
    "pycharm": {
     "name": "#%% md\n"
    }
   }
  },
  {
   "cell_type": "code",
   "execution_count": 16,
   "outputs": [
    {
     "name": "stdout",
     "output_type": "stream",
     "text": [
      "Help on function rwmh in module mcmc:\n",
      "\n",
      "rwmh(ftilde: Callable, variances: numpy.ndarray, X0: numpy.ndarray, N: int)\n",
      "    Random Walk Metropolis Hastings, i.e. type of Markov Chain Monte Carlo in continuous state space with Gaussian proposal\n",
      "    density centered at current state.\n",
      "    For a multidimensional state space, the components of the proposal samples are independent, i.e. the covariance\n",
      "    matrix is diagonal.\n",
      "    :param ftilde: un-normalized target density being the Markov Chain invariant distribution (after normalization)\n",
      "    :param variances: 1D array of variances for each component of the proposal distribution\n",
      "    :param X0: starting point of the chain\n",
      "    :param N: chain length\n",
      "    :return:\n",
      "\n"
     ]
    }
   ],
   "source": [
    "help(rwmh)"
   ],
   "metadata": {
    "collapsed": false,
    "pycharm": {
     "name": "#%%\n"
    }
   }
  },
  {
   "cell_type": "markdown",
   "source": [],
   "metadata": {
    "collapsed": false,
    "pycharm": {
     "name": "#%% md\n"
    }
   }
  },
  {
   "cell_type": "code",
   "execution_count": 22,
   "outputs": [],
   "source": [
    "D = 100\n",
    "s = 0.5\n",
    "X = rwmh(\n",
    "    ftilde=lambda theta: target_density(theta, sigma_noise, y),\n",
    "    variances=s**2 / np.arange(1, D+1)**2,\n",
    "    X0=np.zeros(D),\n",
    "    N=N\n",
    ")"
   ],
   "metadata": {
    "collapsed": false,
    "pycharm": {
     "name": "#%%\n"
    }
   }
  },
  {
   "cell_type": "code",
   "execution_count": 25,
   "outputs": [
    {
     "data": {
      "text/plain": "(100,)"
     },
     "execution_count": 25,
     "metadata": {},
     "output_type": "execute_result"
    }
   ],
   "source": [
    "X[0].shape"
   ],
   "metadata": {
    "collapsed": false,
    "pycharm": {
     "name": "#%%\n"
    }
   }
  },
  {
   "cell_type": "code",
   "execution_count": null,
   "outputs": [],
   "source": [],
   "metadata": {
    "collapsed": false,
    "pycharm": {
     "name": "#%%\n"
    }
   }
  }
 ],
 "metadata": {
  "kernelspec": {
   "display_name": "Python 3",
   "language": "python",
   "name": "python3"
  },
  "language_info": {
   "codemirror_mode": {
    "name": "ipython",
    "version": 2
   },
   "file_extension": ".py",
   "mimetype": "text/x-python",
   "name": "python",
   "nbconvert_exporter": "python",
   "pygments_lexer": "ipython2",
   "version": "2.7.6"
  }
 },
 "nbformat": 4,
 "nbformat_minor": 0
}